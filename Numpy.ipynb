{
 "cells": [
  {
   "cell_type": "markdown",
   "metadata": {},
   "source": [
    "# Numpy 是什么？\n",
    "\n",
    "它的本质就是对，1维，2维，或3维数据的封装，就是一个 matrix. panads 就是基于 Numpy 构建出来的。本章主要介绍：\n",
    "\n",
    "1. 各种维度数据的创建\n",
    "2. 对数据的操作"
   ]
  },
  {
   "cell_type": "markdown",
   "metadata": {},
   "source": [
    "### 数据的创建"
   ]
  },
  {
   "cell_type": "code",
   "execution_count": 2,
   "metadata": {},
   "outputs": [],
   "source": [
    "import numpy as np\n",
    "import math"
   ]
  },
  {
   "cell_type": "code",
   "execution_count": 21,
   "metadata": {},
   "outputs": [
    {
     "name": "stdout",
     "output_type": "stream",
     "text": [
      "[1 2 3]\n",
      "1\n",
      "各个维度的长度：(3,)\n",
      "-------\n",
      "[['1' 'fg' '3']\n",
      " ['4' '5' '6']]\n",
      "2\n",
      "各个维度的长度：(2, 3)\n",
      "-------\n",
      "[[[0. 0. 0. 0.]\n",
      "  [0. 0. 0. 0.]\n",
      "  [0. 0. 0. 0.]]\n",
      "\n",
      " [[0. 0. 0. 0.]\n",
      "  [0. 0. 0. 0.]\n",
      "  [0. 0. 0. 0.]]]\n",
      "3\n",
      "各个维度的长度：(2, 3, 4)\n"
     ]
    }
   ],
   "source": [
    "a = np.array([1, 2, 3]) # 1维数据\n",
    "b = np.array([[1,2,3],[4,5,6]]) # 2维数据\n",
    "c = np.zeros((2,3,4)) # 3维数据. 2，3，4分别代表各个维度的长度\n",
    "\n",
    "print(a)\n",
    "print(a.ndim)\n",
    "print('各个维度的长度：{}'.format(a.shape))\n",
    "print('-------')\n",
    "\n",
    "print(b)\n",
    "print(b.ndim)\n",
    "print('各个维度的长度：{}'.format(b.shape))\n",
    "print('-------')\n",
    "\n",
    "print(c)\n",
    "print(c.ndim)\n",
    "print('各个维度的长度：{}'.format(c.shape))"
   ]
  },
  {
   "cell_type": "code",
   "execution_count": 25,
   "metadata": {},
   "outputs": [
    {
     "name": "stdout",
     "output_type": "stream",
     "text": [
      "[[1. 1. 1.]\n",
      " [1. 1. 1.]]\n",
      "元素数据类型：float64\n"
     ]
    }
   ],
   "source": [
    "e = np.ones((2,3))\n",
    "print(e)\n",
    "print('元素数据类型：{}'.format(e.dtype))"
   ]
  },
  {
   "cell_type": "code",
   "execution_count": 26,
   "metadata": {},
   "outputs": [
    {
     "data": {
      "text/plain": [
       "array([[0.58017947, 0.11807048, 0.91203195],\n",
       "       [0.98693175, 0.54211695, 0.78260307]])"
      ]
     },
     "execution_count": 26,
     "metadata": {},
     "output_type": "execute_result"
    }
   ],
   "source": [
    "# 随机生成2维数据\n",
    "np.random.rand(2,3)"
   ]
  },
  {
   "cell_type": "code",
   "execution_count": 34,
   "metadata": {},
   "outputs": [
    {
     "name": "stdout",
     "output_type": "stream",
     "text": [
      "[10 12 14 16 18 20 22 24 26 28 30 32 34 36 38 40 42 44 46 48]\n",
      "-------\n",
      "[[10 12 14 16 18]\n",
      " [20 22 24 26 28]\n",
      " [30 32 34 36 38]\n",
      " [40 42 44 46 48]]\n"
     ]
    }
   ],
   "source": [
    "# 创建1维数据\n",
    "# 参数1: starting bound\n",
    "# 参数2: ending bound\n",
    "# 参数3: 每个数的差值\n",
    "f = np.arange(10, 50, 2)\n",
    "print(f)\n",
    "print('-------')\n",
    "\n",
    "# 总的元素数量要一致，否则报错。-1 代表让程序自动计算另外一个维度，因为总元素是一定的，给出1个维度的长度，一定能算出另1个维度的长度\n",
    "print(f.reshape(4, -1))"
   ]
  },
  {
   "cell_type": "code",
   "execution_count": 41,
   "metadata": {},
   "outputs": [
    {
     "name": "stdout",
     "output_type": "stream",
     "text": [
      "[3.  3.1 3.3 3.4 3.6 3.7 3.9 4. ]\n"
     ]
    }
   ],
   "source": [
    "# arange 是生成整数的，这回生成 float\n",
    "# 参数1: starting bound\n",
    "# 参数2: ending bound\n",
    "# 参数3: 生成的数量\n",
    "print(np.linspace(3, 4, 8))"
   ]
  },
  {
   "cell_type": "code",
   "execution_count": 15,
   "metadata": {},
   "outputs": [
    {
     "name": "stdout",
     "output_type": "stream",
     "text": [
      "[[255 255 255]\n",
      " [255 255 255]]\n",
      "[[0. 0. 0.]\n",
      " [0. 0. 0.]]\n",
      "[[1. 1. 1.]\n",
      " [1. 1. 1.]]\n"
     ]
    }
   ],
   "source": [
    "mask=np.full((2,3),255)\n",
    "print(mask)\n",
    "\n",
    "zeros=np.zeros((2,3))\n",
    "print(zeros)\n",
    "\n",
    "ones=np.ones((2,3))\n",
    "print(ones)"
   ]
  },
  {
   "cell_type": "markdown",
   "metadata": {},
   "source": [
    "### 数据操作"
   ]
  },
  {
   "cell_type": "code",
   "execution_count": 44,
   "metadata": {},
   "outputs": [
    {
     "name": "stdout",
     "output_type": "stream",
     "text": [
      "[ 9 18 27 36]\n",
      "[ 10  40  90 160]\n",
      "[ 0 20 40 60]\n"
     ]
    }
   ],
   "source": [
    "a = np.array([10,20,30,40])\n",
    "b = np.array([1, 2, 3,4])\n",
    "\n",
    "c = a-b\n",
    "print(c)\n",
    "\n",
    "d = a*b\n",
    "print(d)\n",
    "\n",
    "e = (a - 10) * 2\n",
    "print(e)"
   ]
  },
  {
   "cell_type": "code",
   "execution_count": 3,
   "metadata": {},
   "outputs": [
    {
     "name": "stdout",
     "output_type": "stream",
     "text": [
      "[[10 12 14 16]\n",
      " [18 20 22 24]\n",
      " [26 28 30 32]\n",
      " [34 36 38 40]\n",
      " [42 44 46 48]]\n",
      "-------\n",
      "[[False False False False]\n",
      " [False False False False]\n",
      " [False False False  True]\n",
      " [ True  True  True  True]\n",
      " [ True  True  True  True]]\n",
      "-------\n",
      "这叫做 Boolean Indexing：[32 34 36 38 40 42 44 46 48]\n"
     ]
    }
   ],
   "source": [
    "a = np.arange(10, 50, 2).reshape(5, -1)\n",
    "print(a)\n",
    "print('-------')\n",
    "print(a > 30)\n",
    "print('-------')\n",
    "print(\"这叫做 Boolean Indexing：{}\".format(a[a>30]))"
   ]
  },
  {
   "cell_type": "code",
   "execution_count": 9,
   "metadata": {},
   "outputs": [
    {
     "name": "stdout",
     "output_type": "stream",
     "text": [
      "[[10 12 14 16]\n",
      " [18 20 22 24]\n",
      " [26 28 30 32]\n",
      " [34 36 38 40]\n",
      " [42 44 46 48]]\n",
      "28\n",
      "48\n",
      "10\n",
      "29.0\n"
     ]
    }
   ],
   "source": [
    "print(a)\n",
    "print(a[0:2, 0].sum())\n",
    "print(a.max())\n",
    "print(a.min())\n",
    "print(a.mean())"
   ]
  },
  {
   "cell_type": "code",
   "execution_count": 19,
   "metadata": {},
   "outputs": [
    {
     "name": "stdout",
     "output_type": "stream",
     "text": [
      "[3.         3.14285714 3.28571429 3.42857143 3.57142857 3.71428571\n",
      " 3.85714286 4.        ]\n",
      "[3 3 3 3 3 3 3 4]\n"
     ]
    }
   ],
   "source": [
    "floats = np.linspace(3, 4, 8)\n",
    "print(floats)\n",
    "modified_array=floats.astype(np.uint8)\n",
    "print(modified_array)"
   ]
  },
  {
   "cell_type": "markdown",
   "metadata": {},
   "source": [
    "### 数据的选取"
   ]
  },
  {
   "cell_type": "code",
   "execution_count": 31,
   "metadata": {},
   "outputs": [
    {
     "name": "stdout",
     "output_type": "stream",
     "text": [
      "[[ 1  2  3  4]\n",
      " [ 5  6  7  8]\n",
      " [ 9 10 11 12]]\n",
      "-------\n",
      "4\n",
      "-------\n",
      "[[2 3]\n",
      " [6 7]]\n",
      "注意：选取的数据仅仅是原始数据的 view，如果改变它，原始数据也会随着改变\n",
      "[[2 3]\n",
      " [6 7]]\n",
      "[[   1 1111    3    4]\n",
      " [   5    6    7    8]\n",
      " [   9   10   11   12]]\n"
     ]
    }
   ],
   "source": [
    "a = np.array([[1,2,3,4], [5,6,7,8], [9,10,11,12]])\n",
    "print(a)\n",
    "print('-------')\n",
    "print(a[0, 3])\n",
    "print('-------')\n",
    "print(a[:2, 1:3])\n",
    "print('注意：选取的数据仅仅是原始数据的 view，如果改变它，原始数据也会随着改变')\n",
    "sub_array = a[:2, 1:3]\n",
    "print(sub_array)\n",
    "sub_array[0, 0] = 1111\n",
    "print(a)"
   ]
  },
  {
   "cell_type": "code",
   "execution_count": 40,
   "metadata": {},
   "outputs": [
    {
     "name": "stdout",
     "output_type": "stream",
     "text": [
      "[[   1 1111    3    4]\n",
      " [   5    6    7    8]\n",
      " [   9   10   11   12]]\n",
      "one-dimensional array:  [1 5 9]\n",
      "shape && dim：(3,) && 1\n",
      "二维的:  [1 5 9]\n",
      "shape && dim：(3, 1) && 2\n"
     ]
    }
   ],
   "source": [
    "print(a)\n",
    "\n",
    "one_d_arr = a[:, 0]\n",
    "print(\"one-dimensional array: \", one_d_arr)\n",
    "print(\"shape && dim：{} && {}\".format(one_d_arr.shape, one_d_arr.ndim))\n",
    "\n",
    "two_d_list = a[:, 0:1]\n",
    "print(\"二维的: \", one_d_list)\n",
    "print(\"shape && dim：{} && {}\".format(two_d_list.shape, two_d_list.ndim))"
   ]
  }
 ],
 "metadata": {
  "kernelspec": {
   "display_name": "Python 3",
   "language": "python",
   "name": "python3"
  },
  "language_info": {
   "codemirror_mode": {
    "name": "ipython",
    "version": 3
   },
   "file_extension": ".py",
   "mimetype": "text/x-python",
   "name": "python",
   "nbconvert_exporter": "python",
   "pygments_lexer": "ipython3",
   "version": "3.7.3"
  }
 },
 "nbformat": 4,
 "nbformat_minor": 2
}
